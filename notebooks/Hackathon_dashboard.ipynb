{
  "cells": [
    {
      "cell_type": "markdown",
      "metadata": {},
      "source": [
        "# Импорты"
      ]
    },
    {
      "cell_type": "code",
      "execution_count": null,
      "metadata": {
        "vscode": {
          "languageId": "plaintext"
        }
      },
      "outputs": [],
      "source": [
        "import matplotlib.pyplot as plt\n",
        "import seaborn as sns\n",
        "import pandas as pd"
      ]
    },
    {
      "cell_type": "markdown",
      "metadata": {},
      "source": [
        "# Оценка близости вопросов (не забудьте включить гпу в колабе!)"
      ]
    },
    {
      "cell_type": "markdown",
      "metadata": {},
      "source": [
        "Бенчмарк https://habr.com/ru/companies/sberdevices/articles/831150/\n",
        "\n",
        "У нас задача на семантическую близость - STS. \n",
        "e5 справляется с ней хорошо: https://huggingface.co/intfloat/multilingual-e5-large\n",
        "\n",
        "Еще недавно залили эмбеденги гигачата в опенсорс\n",
        "https://huggingface.co/ai-sage/Giga-Embeddings-instruct\n",
        "\n",
        "P.S. можете использовать любые другие методы сравнения"
      ]
    },
    {
      "cell_type": "code",
      "execution_count": null,
      "metadata": {
        "vscode": {
          "languageId": "plaintext"
        }
      },
      "outputs": [],
      "source": [
        "# Пример кода\n"
      ]
    },
    {
      "cell_type": "markdown",
      "metadata": {},
      "source": [
        "# Для дашбордов "
      ]
    },
    {
      "cell_type": "markdown",
      "metadata": {},
      "source": [
        "### 🚀 **Dash и Streamlit: Простая визуализация метрик**\n",
        "\n",
        "**Dash** и **Streamlit** — это популярные Python-библиотеки, которые помогают быстро создавать интерактивные дашборды для визуализации данных и метрик.\n",
        "\n",
        "---\n",
        "\n",
        "### 🌟 **1. Streamlit – простой и быстрый дашборд**\n",
        "\n",
        "- Подходит для быстрой визуализации метрик, без сложной настройки.  \n",
        "- Можно запускать прямо из Jupyter Notebook или терминала.  \n",
        "- Подходит для отображения графиков, таблиц и простых виджетов (кнопки, слайдеры).  \n",
        "- Отличный выбор для базовых метрик и презентации результатов.  \n",
        "\n",
        "📖 **Документация:** [https://docs.streamlit.io](https://docs.streamlit.io)\n",
        "\n",
        "---\n",
        "\n",
        "### 📊 **2. Dash – для более сложных приложений**\n",
        "\n",
        "- Позволяет создавать полноценные веб-приложения с пользовательским интерфейсом.  \n",
        "- Подходит для интерактивных графиков, сложных фильтров и многокомпонентных визуализаций.  \n",
        "- Немного сложнее в настройке, чем Streamlit, но даёт больше гибкости.  \n",
        "\n",
        "📖 **Документация:** [https://dash.plotly.com](https://dash.plotly.com)\n"
      ]
    },
    {
      "cell_type": "markdown",
      "metadata": {},
      "source": [
        "# Для метрик"
      ]
    },
    {
      "cell_type": "code",
      "execution_count": null,
      "metadata": {
        "vscode": {
          "languageId": "plaintext"
        }
      },
      "outputs": [],
      "source": [
        "from metrics import Validator #metrics.py\n",
        "\n",
        "validator = Validator()\n",
        "\n",
        "res = validator.validate_dataset(df, use_ragas=True) #df: пандас датасет с нужными полями: answer, ground_truth, context, question\n",
        "\n",
        "# contex_rec = res[\"context_recall\"]\n",
        "# contex_prec = res[\"context_precision\"]\n",
        "# answer_cor_lit = res[\"answer_correctness_literal\"]\n",
        "# answer_cor_neu = res[\"answer_correctness_neural\"]"
      ]
    },
    {
      "cell_type": "markdown",
      "metadata": {},
      "source": [
        "### Графички, шоб красиво :)"
      ]
    },
    {
      "cell_type": "code",
      "execution_count": null,
      "metadata": {
        "vscode": {
          "languageId": "plaintext"
        }
      },
      "outputs": [],
      "source": [
        "def plot_metric_distribution(results: dict):\n",
        "    \"\"\"Построить распределение каждой метрики.\"\"\"\n",
        "    plt.figure(figsize=(18, 12))\n",
        "    for i, (metric, values) in enumerate(results.items(), 1):\n",
        "        plt.subplot(2, 2, i)\n",
        "        sns.histplot(values, bins=20, kde=True, color=\"skyblue\")\n",
        "        plt.title(f\"Распределение {metric}\")\n",
        "        plt.xlabel(\"Оценка\")\n",
        "        plt.ylabel(\"Частота\")\n",
        "    plt.tight_layout()\n",
        "    plt.show()\n",
        "\n",
        "def plot_average_scores(results: dict):\n",
        "    \"\"\"Построить среднее значение для каждой метрики.\"\"\"\n",
        "    avg_scores = {metric: sum(values) / len(values) if values else 0.0 for metric, values in results.items()}\n",
        "\n",
        "    plt.figure(figsize=(12, 8))\n",
        "    sns.barplot(x=list(avg_scores.keys()), y=list(avg_scores.values()), palette=\"viridis\")\n",
        "    plt.title(\"Средние значения для каждой метрики\")\n",
        "    plt.xlabel(\"Метрика\")\n",
        "    plt.ylabel(\"Средняя оценка\")\n",
        "    plt.xticks(rotation=45)\n",
        "    plt.show()\n",
        "\n",
        "def plot_metrics_comparison(results: dict):\n",
        "    \"\"\"Построить сравнение метрик по образцам.\"\"\"\n",
        "    df = pd.DataFrame(results)\n",
        "    plt.figure(figsize=(14, 10))\n",
        "    sns.boxplot(data=df, palette=\"Set2\")\n",
        "    plt.title(\"Сравнение метрик (ящиковая диаграмма)\")\n",
        "    plt.xlabel(\"Метрика\")\n",
        "    plt.ylabel(\"Оценка\")\n",
        "    plt.xticks(rotation=45)\n",
        "    plt.show()\n",
        "\n",
        "def plot_correlation_heatmap(results: dict):\n",
        "    \"\"\"Построить тепловую карту корреляции между метриками.\"\"\"\n",
        "    df = pd.DataFrame(results)\n",
        "    correlation = df.corr()\n",
        "\n",
        "    plt.figure(figsize=(10, 8))\n",
        "    sns.heatmap(correlation, annot=True, cmap=\"coolwarm\", fmt=\".2f\")\n",
        "    plt.title(\"Тепловая карта корреляции метрик\")\n",
        "    plt.show()"
      ]
    }
  ],
  "metadata": {
    "colab": {
      "provenance": []
    },
    "kernelspec": {
      "display_name": "Python 3",
      "name": "python3"
    },
    "language_info": {
      "name": "python"
    }
  },
  "nbformat": 4,
  "nbformat_minor": 0
}
