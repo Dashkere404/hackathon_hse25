{
  "nbformat": 4,
  "nbformat_minor": 0,
  "metadata": {
    "colab": {
      "provenance": []
    },
    "kernelspec": {
      "name": "python3",
      "display_name": "Python 3"
    },
    "language_info": {
      "name": "python"
    }
  },
  "cells": [
    {
      "cell_type": "markdown",
      "source": [
        "# 🚀 Хакатон: Задание 1. Тюнинг и Оценка LLM\n",
        "\n",
        "Всем привет! Наша команда занимается созданием чат-бота на основе RAG (https://habr.com/ru/articles/779526/) для помощи студентам НИУ ВШЭ с ответами на их вопросы, касающихся университета.\n",
        "\n",
        "Для корректной работы нашей модели нам каждый раз приходится передавать ей системный промпт. Ознакомиться с ним можете в файле system_prompt.yaml.\n",
        "\n",
        "Каждый раз его передавать в модель не хочется, поэтому нам бы хотелось иметь модель, которая *уже будет натюнена следовать инструкциям*, прописанным в системном промпте без дополнительных указаний."
      ],
      "metadata": {
        "id": "blLQSC_cOKSq"
      }
    },
    {
      "cell_type": "markdown",
      "source": [
        "##**Условия и какие данные мы предоставляем**"
      ],
      "metadata": {
        "id": "_3oR-fADQ7We"
      }
    },
    {
      "cell_type": "markdown",
      "source": [
        "> Условия\n",
        "\n",
        "\n",
        "1.   Натюньте побольше легковесных моделей. Ниже есть код для некоторых разных вариантов, пробуйте другие, пробуйте те, что указаны в коде (про тюнинг, его виды и прочее можете почитать здесь и здесь.) [Просто прикольная презентация про ллмки, виды обучения, дообучения, бенчмарки](https://mellain.github.io/data/YNDX_Meetup_LLM_Train_Slides_2024.pdf)\n",
        "\n",
        "2.   Отвалидируйте модель (подобрать параметры, посмотреть на то, что происходит с лоссом). Советуем использовать [wandb](https://wandb.ai/)\n",
        "\n",
        "3. Отобразить в красивом, понятном, интепретируемом виде результаты☺️☺️☺️\n",
        "\n",
        "P.S. не забудьте сохранить одну лучшую модель, по итогам мы прогоним ваши модели на скрытой выборке и определим победителей☠️\n",
        "\n",
        "\n",
        "> Что мы предоставляем"
      ],
      "metadata": {
        "id": "ia3AlRP5Rg3W"
      }
    },
    {
      "cell_type": "markdown",
      "source": [
        "##**Код, который может быть полезен :)**"
      ],
      "metadata": {
        "id": "Q--8Zi4-RAVy"
      }
    },
    {
      "cell_type": "markdown",
      "source": [
        "###Все импорты"
      ],
      "metadata": {
        "id": "SqNuouv-SWoI"
      }
    },
    {
      "cell_type": "code",
      "source": [
        "%%capture\n",
        "%pip install transformers datasets accelerate rouge-score nltk bitsandbytes peft"
      ],
      "metadata": {
        "id": "D_s8Ekpi3o97"
      },
      "execution_count": null,
      "outputs": []
    },
    {
      "cell_type": "code",
      "source": [
        "import json\n",
        "import math\n",
        "from tqdm import tqdm\n",
        "import os\n",
        "import torch\n",
        "\n",
        "from transformers import AutoModelForCausalLM, AutoTokenizer, TrainingArguments, Trainer\n",
        "from nltk.translate.bleu_score import sentence_bleu\n",
        "from rouge import Rouge\n",
        "from datasets import load_dataset"
      ],
      "metadata": {
        "id": "bhQgCGRqSVwc"
      },
      "execution_count": null,
      "outputs": []
    },
    {
      "cell_type": "markdown",
      "source": [
        "### Загрузка данных для обучения"
      ],
      "metadata": {
        "id": "7g9kTa_NRicD"
      }
    },
    {
      "cell_type": "code",
      "source": [],
      "metadata": {
        "id": "A6TKBPEtRNk6"
      },
      "execution_count": null,
      "outputs": []
    },
    {
      "cell_type": "markdown",
      "source": [
        "### Код для загрузки различных моделей (можете использовать любые, но не берите слишком тяжеловесные, на бесплатных гпу с колаба вы не успеете ее обучить :)))"
      ],
      "metadata": {
        "id": "MdLy7dN7Rwve"
      }
    },
    {
      "cell_type": "markdown",
      "source": [
        "### Класс для обучения"
      ],
      "metadata": {
        "id": "eC-vZYpU4CF0"
      }
    },
    {
      "cell_type": "code",
      "source": [
        "class ModelTrainer:\n",
        "    def __init__(self, model_name: str, task: str = \"causal\", quantization: bool = True):\n",
        "        self.model_name = model_name\n",
        "        self.task = task\n",
        "        self.quantization = quantization\n",
        "        self.device = \"cuda\" if torch.cuda.is_available() else \"cpu\"\n",
        "        self.model, self.tokenizer = self.load_model()\n",
        "\n",
        "    def load_model(self):\n",
        "        kwargs = {\"load_in_4bit\": True, \"device_map\": \"auto\"} if self.quantization else {\"device_map\": \"auto\"}\n",
        "\n",
        "        if self.task == \"causal\":\n",
        "            model = AutoModelForCausalLM.from_pretrained(self.model_name, **kwargs)\n",
        "        elif self.task == \"classification\":\n",
        "            model = AutoModelForSequenceClassification.from_pretrained(self.model_name, **kwargs)\n",
        "        else:\n",
        "            raise ValueError(\"Неподдерживаемая задача\")\n",
        "\n",
        "        tokenizer = AutoTokenizer.from_pretrained(self.model_name)\n",
        "        model.to(self.device)\n",
        "        return model, tokenizer\n",
        "\n",
        "    def load_data(self, data_path: str):\n",
        "        dataset = load_dataset(\"json\", data_files=data_path)\n",
        "        return dataset.map(lambda examples: self.tokenizer(examples[\"question\"] + \" \" + examples.get(\"context\", \"\"),\n",
        "                                                      truncation=True, padding=\"max_length\", max_length=512),\n",
        "                                                      batched=True)\n",
        "\n",
        "    def train(self, train_data_path: str, output_dir: str = \"./results\", epochs: int = 3, batch_size: int = 2):\n",
        "        os.makedirs(output_dir, exist_ok=True)\n",
        "\n",
        "        tokenized_datasets = self.load_data(train_data_path)\n",
        "        train_dataloader = torch.utils.data.DataLoader(tokenized_datasets[\"train\"], batch_size=batch_size, shuffle=True)\n",
        "\n",
        "        self.model.train()\n",
        "        optimizer = torch.optim.AdamW(self.model.parameters(), lr=5e-5)\n",
        "\n",
        "        for epoch in range(epochs):\n",
        "            progress_bar = tqdm(train_dataloader, desc=f\"Epoch {epoch+1}/{epochs}\", leave=True)\n",
        "\n",
        "            for batch in progress_bar:\n",
        "                batch = {k: v.to(self.model.device) for k, v in batch.items()}\n",
        "                optimizer.zero_grad()\n",
        "                outputs = self.model(**batch)\n",
        "                loss = outputs.loss\n",
        "                loss.backward()\n",
        "                optimizer.step()\n",
        "\n",
        "                progress_bar.set_postfix(loss=loss.item())\n",
        "\n",
        "        self.model.save_pretrained(output_dir)\n",
        "        print(f\"Модель {self.model_name} сохранена в {output_dir}.\")"
      ],
      "metadata": {
        "id": "OzzuOeV8SCtT"
      },
      "execution_count": null,
      "outputs": []
    },
    {
      "cell_type": "markdown",
      "source": [
        "### Обучаем"
      ],
      "metadata": {
        "id": "ts2-P1yX36z8"
      }
    },
    {
      "cell_type": "code",
      "source": [
        "available_models = {\n",
        "    \"causal\": [\"ai-forever/saiga_mistral_7b\", \"mistralai/Mistral-7B-Instruct\", \"SberbankAI/FRED-T5-1.7B\"],\n",
        "    \"classification\": [\"distilbert-base-uncased\", \"bert-tiny\"]\n",
        "} #гуглите любые, это просто примерус\n",
        "\n",
        "selected_model = \"ai-forever/saiga_mistral_7b\"\n",
        "trainer = ModelTrainer(selected_model)\n",
        "trainer.train(\"train_data.json\")"
      ],
      "metadata": {
        "id": "MwzKcN543_BI"
      },
      "execution_count": null,
      "outputs": []
    },
    {
      "cell_type": "markdown",
      "source": [
        "###Код для подсчета метрик вашей модельки :)"
      ],
      "metadata": {
        "id": "Egz3ldjcSGjU"
      }
    },
    {
      "cell_type": "code",
      "source": [
        "def compute_rouge(reference, hypothesis):\n",
        "    rouge = Rouge()\n",
        "    scores = rouge.get_scores(hypothesis, reference)\n",
        "    return scores[0][\"rouge-l\"][\"f\"]\n",
        "\n",
        "def compute_bleu(reference, hypothesis):\n",
        "    return sentence_bleu([reference.split()], hypothesis.split())\n",
        "\n",
        "def compute_perplexity(model, tokenizer, text):\n",
        "    inputs = tokenizer(text, return_tensors=\"pt\").to(\"cuda\")\n",
        "    with torch.no_grad():\n",
        "        outputs = model(**inputs, labels=inputs[\"input_ids\"])\n",
        "        loss = outputs.loss\n",
        "    return math.exp(loss.item())"
      ],
      "metadata": {
        "id": "yAZ-2KreSNWO"
      },
      "execution_count": null,
      "outputs": []
    },
    {
      "cell_type": "code",
      "source": [
        "test_data = json.load(open(\"generated_answers.json\", \"r\", encoding=\"utf-8\"))\n",
        "\n",
        "rouge_scores, bleu_scores, perplexity_scores = [], [], []\n",
        "\n",
        "for item in test_data:\n",
        "    ref = item[\"gold_answer\"]\n",
        "    hyp = item[\"generated_answer\"]\n",
        "\n",
        "    rouge_scores.append(compute_rouge(ref, hyp))\n",
        "    bleu_scores.append(compute_bleu(ref, hyp))\n",
        "    perplexity_scores.append(compute_perplexity(model, tokenizer, hyp))\n",
        "\n",
        "print(f\"Средний ROUGE-L: {sum(rouge_scores) / len(rouge_scores)}\")\n",
        "print(f\"Средний BLEU: {sum(bleu_scores) / len(bleu_scores)}\")\n",
        "print(f\"Средний Perplexity: {sum(perplexity_scores) / len(perplexity_scores)}\")"
      ],
      "metadata": {
        "id": "-Hcp2X9H4h21"
      },
      "execution_count": null,
      "outputs": []
    },
    {
      "cell_type": "markdown",
      "source": [
        "###Графички, шоб красиво :)"
      ],
      "metadata": {
        "id": "ysErAoYj4aBv"
      }
    },
    {
      "cell_type": "code",
      "source": [
        "import matplotlib.pyplot as plt\n",
        "import numpy as np\n",
        "\n",
        "def plot_metrics(rouge_scores, bleu_scores, perplexity_scores):\n",
        "    indices = np.arange(len(rouge_scores))\n",
        "\n",
        "    plt.figure(figsize=(12, 5))\n",
        "\n",
        "    plt.subplot(1, 3, 1)\n",
        "    plt.plot(indices, rouge_scores, marker='o', linestyle='-', label='ROUGE-L')\n",
        "    plt.xlabel(\"Наблюдения\")\n",
        "    plt.ylabel(\"Метрика\")\n",
        "    plt.title(\"ROUGE-L метрика\")\n",
        "    plt.grid(True)\n",
        "\n",
        "    plt.subplot(1, 3, 2)\n",
        "    plt.plot(indices, bleu_scores, marker='s', linestyle='-', label='BLEU', color='orange')\n",
        "    plt.xlabel(\"Наблюдения\")\n",
        "    plt.ylabel(\"Метрика\")\n",
        "    plt.title(\"BLEU метрика\")\n",
        "    plt.grid(True)\n",
        "\n",
        "\n",
        "    plt.subplot(1, 3, 3)\n",
        "    plt.plot(indices, perplexity_scores, marker='^', linestyle='-', label='Perplexity', color='red')\n",
        "    plt.xlabel(\"Наблюдения\")\n",
        "    plt.ylabel(\"Метрика\")\n",
        "    plt.title(\"Perplexity метрика\")\n",
        "    plt.grid(True)\n",
        "\n",
        "\n",
        "    plt.tight_layout()\n",
        "    plt.show()\n",
        "\n",
        "plot_metrics(rouge_scores, bleu_scores, perplexity_scores)\n"
      ],
      "metadata": {
        "id": "XSnXC4xW17lh"
      },
      "execution_count": null,
      "outputs": []
    }
  ]
}